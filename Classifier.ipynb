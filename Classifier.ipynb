{
 "cells": [
  {
   "cell_type": "code",
   "execution_count": 14,
   "metadata": {},
   "outputs": [],
   "source": [
    "import os\n",
    "\n",
    "import IPython.display as ipd\n",
    "import numpy as np\n",
    "import pandas as pd\n",
    "import matplotlib.pyplot as plt\n",
    "import seaborn as sns\n",
    "import sklearn as skl\n",
    "import sklearn.utils, sklearn.preprocessing, sklearn.decomposition, sklearn.svm\n",
    "import librosa\n",
    "import librosa.display\n",
    "import utils\n",
    "plt.rcParams['figure.figsize'] = (17, 5)"
   ]
  },
  {
   "cell_type": "code",
   "execution_count": 15,
   "metadata": {
    "scrolled": true
   },
   "outputs": [],
   "source": [
    "# Directory where metadata is stored\n",
    "METADATA_DIR = \"D:\\\\fma_metadata\\\\\"\n",
    "\n",
    "# Load metadata and features.\n",
    "\n",
    "#tracks = utils.load(METADATA_DIR + 'tracks.csv')\n",
    "genres = utils.load(METADATA_DIR + 'genres.csv')\n",
    "#features = utils.load(METADATA_DIR + 'features.csv')\n",
    "#echonest = utils.load(METADATA_DIR + 'echonest.csv')\n",
    "\n",
    "#np.testing.assert_array_equal(features.index, tracks.index)\n",
    "#assert echonest.index.isin(tracks.index).all()\n",
    "\n",
    "#tracks.shape, genres.shape, features.shape, echonest.shape"
   ]
  },
  {
   "cell_type": "code",
   "execution_count": 16,
   "metadata": {},
   "outputs": [
    {
     "name": "stdout",
     "output_type": "stream",
     "text": [
      "          #tracks  parent                   title  top_level\n",
      "genre_id                                                    \n",
      "1            8693      38             Avant-Garde         38\n",
      "2            5271       0           International          2\n",
      "3            1752       0                   Blues          3\n",
      "4            4126       0                    Jazz          4\n",
      "5            4106       0               Classical          5\n",
      "6             914      38                 Novelty         38\n",
      "7             217      20                  Comedy         20\n",
      "8             868       0     Old-Time / Historic          8\n",
      "9            1987       0                 Country          9\n",
      "10          13845       0                     Pop         10\n",
      "11            367      14                   Disco         14\n",
      "12          32923       0                    Rock         12\n",
      "13            730       0          Easy Listening         13\n",
      "14           1499       0                Soul-RnB         14\n",
      "15          34413       0              Electronic         15\n",
      "16            304       6           Sound Effects         38\n",
      "17          12706       0                    Folk         17\n",
      "18           5913    1235              Soundtrack       1235\n",
      "19            773      14                    Funk         14\n",
      "20           1876       0                  Spoken         20\n",
      "21           8389       0                 Hip-Hop         21\n",
      "22            774      38           Audio Collage         38\n",
      "25           9261      12                    Punk         12\n",
      "26           1952      12               Post-Rock         12\n",
      "27           6041      12                   Lo-Fi         12\n",
      "30           3237      38        Field Recordings         38\n",
      "31           1498      12                   Metal         12\n",
      "32           7268      38                   Noise         38\n",
      "33           2267      17              Psych-Folk         17\n",
      "36            688      12               Krautrock         12\n",
      "...           ...     ...                     ...        ...\n",
      "468          1144      15                 Dubstep         15\n",
      "491            78     468                  Skweee         15\n",
      "493             4     651           Western Swing          9\n",
      "495          2061      15               Downtempo         15\n",
      "502            67      46                  Cumbia          2\n",
      "504           114       2                   Latin          2\n",
      "514          1414      38               Sound Art         38\n",
      "524           112     130          Romany (Gypsy)          2\n",
      "538           338      18             Compilation       1235\n",
      "539           638      21                     Rap         21\n",
      "542           735      21               Breakbeat         21\n",
      "567            66       3                  Gospel          3\n",
      "580           202      21        Abstract Hip-Hop         21\n",
      "602            94      79      Reggae - Dancehall          2\n",
      "619           115     130                 Spanish          2\n",
      "651            79       9       Country & Western          9\n",
      "659          1239       5  Contemporary Classical          5\n",
      "693            56      21                   Wonky         21\n",
      "695           258      15                  Jungle         15\n",
      "741            57     130                 Klezmer          2\n",
      "763           268      16                 Holiday         38\n",
      "808            12      46                   Salsa          2\n",
      "810           120      13                 Nu-Jazz         13\n",
      "811          1192      21           Hip-Hop Beats         21\n",
      "906           107       4             Modern Jazz          4\n",
      "1032           60     102                 Turkish          2\n",
      "1060           30      46                   Tango          2\n",
      "1156           26     130                    Fado          2\n",
      "1193           72     763               Christmas         38\n",
      "1235        14938       0            Instrumental       1235\n",
      "\n",
      "[163 rows x 4 columns]\n"
     ]
    }
   ],
   "source": [
    "print genres"
   ]
  },
  {
   "cell_type": "code",
   "execution_count": 17,
   "metadata": {
    "scrolled": true
   },
   "outputs": [
    {
     "name": "stdout",
     "output_type": "stream",
     "text": [
      "6400 training examples, 800 testing examples\n",
      "140 features, 8 classes\n"
     ]
    }
   ],
   "source": [
    "small = tracks['set', 'subset'] <= 'small'\n",
    "\n",
    "train = tracks['set', 'split'] == 'training'\n",
    "val = tracks['set', 'split'] == 'validation'\n",
    "test = tracks['set', 'split'] == 'test'\n",
    "\n",
    "y_train = tracks.loc[small & train, ('track', 'genre_top')]\n",
    "y_test = tracks.loc[small & test, ('track', 'genre_top')]\n",
    "X_train = features.loc[small & train, 'mfcc']\n",
    "X_test = features.loc[small & test, 'mfcc']\n",
    "\n",
    "print('{} training examples, {} testing examples'.format(y_train.size, y_test.size))\n",
    "print('{} features, {} classes'.format(X_train.shape[1], np.unique(y_train).size))"
   ]
  },
  {
   "cell_type": "code",
   "execution_count": 20,
   "metadata": {},
   "outputs": [],
   "source": [
    "from sklearn.ensemble import RandomForestClassifier"
   ]
  },
  {
   "cell_type": "code",
   "execution_count": 29,
   "metadata": {},
   "outputs": [
    {
     "name": "stdout",
     "output_type": "stream",
     "text": [
      "Accuracy: 42.38%\n"
     ]
    }
   ],
   "source": [
    "# Be sure training samples are shuffled.\n",
    "X_train, y_train = skl.utils.shuffle(X_train, y_train, random_state=42)\n",
    "\n",
    "# Standardize features by removing the mean and scaling to unit variance.\n",
    "scaler = skl.preprocessing.StandardScaler(copy=False)\n",
    "scaler.fit_transform(X_train)\n",
    "scaler.transform(X_test)\n",
    "\n",
    "# Support vector classification.\n",
    "#clf = skl.svm.SVC()\n",
    "#clf.fit(X_train, y_train)\n",
    "clf = RandomForestClassifier(n_estimators = 100)\n",
    "clf.fit(X_train, y_train)\n",
    "score = clf.score(X_test, y_test)\n",
    "print('Accuracy: {:.2%}'.format(score))"
   ]
  },
  {
   "cell_type": "code",
   "execution_count": null,
   "metadata": {},
   "outputs": [],
   "source": []
  }
 ],
 "metadata": {
  "kernelspec": {
   "display_name": "Python 2",
   "language": "python",
   "name": "python2"
  },
  "language_info": {
   "codemirror_mode": {
    "name": "ipython",
    "version": 2
   },
   "file_extension": ".py",
   "mimetype": "text/x-python",
   "name": "python",
   "nbconvert_exporter": "python",
   "pygments_lexer": "ipython2",
   "version": "2.7.14"
  }
 },
 "nbformat": 4,
 "nbformat_minor": 2
}
